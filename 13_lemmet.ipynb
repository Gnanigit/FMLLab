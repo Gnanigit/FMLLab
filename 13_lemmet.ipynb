{
  "nbformat": 4,
  "nbformat_minor": 0,
  "metadata": {
    "colab": {
      "provenance": [],
      "authorship_tag": "ABX9TyMmyO4vhHojo2A6ILhWYh8m",
      "include_colab_link": true
    },
    "kernelspec": {
      "name": "python3",
      "display_name": "Python 3"
    },
    "language_info": {
      "name": "python"
    }
  },
  "cells": [
    {
      "cell_type": "markdown",
      "metadata": {
        "id": "view-in-github",
        "colab_type": "text"
      },
      "source": [
        "<a href=\"https://colab.research.google.com/github/Gnanigit/FMLLab/blob/main/13_lemmet.ipynb\" target=\"_parent\"><img src=\"https://colab.research.google.com/assets/colab-badge.svg\" alt=\"Open In Colab\"/></a>"
      ]
    },
    {
      "cell_type": "code",
      "execution_count": 10,
      "metadata": {
        "colab": {
          "base_uri": "https://localhost:8080/"
        },
        "id": "u1iESW-GBiL7",
        "outputId": "9c81db5b-cd08-4b9f-acde-44fc3c96913d"
      },
      "outputs": [
        {
          "output_type": "stream",
          "name": "stderr",
          "text": [
            "[nltk_data] Downloading package punkt to /root/nltk_data...\n",
            "[nltk_data]   Package punkt is already up-to-date!\n",
            "[nltk_data] Downloading package wordnet to /root/nltk_data...\n",
            "[nltk_data]   Package wordnet is already up-to-date!\n"
          ]
        }
      ],
      "source": [
        "import nltk\n",
        "nltk.download('punkt')\n",
        "nltk.download('wordnet')\n",
        "from nltk.stem import WordNetLemmatizer\n",
        "wl = WordNetLemmatizer()\n"
      ]
    },
    {
      "cell_type": "code",
      "source": [
        "punctuations=\"?:!.,;\"\n",
        "from nltk.tokenize import word_tokenize\n"
      ],
      "metadata": {
        "id": "wCw92_JSCKKM"
      },
      "execution_count": 11,
      "outputs": []
    },
    {
      "cell_type": "code",
      "source": [
        "def lemsent(text):\n",
        "  words=word_tokenize(text)\n",
        "  print(words)\n",
        "  final=[]\n",
        "  for i in words:\n",
        "    final.append(wl.lemmatize(i))\n",
        "    final.append(\" \")\n",
        "  return \"\".join(final)"
      ],
      "metadata": {
        "id": "g8yQ8sUYCt8e"
      },
      "execution_count": 15,
      "outputs": []
    },
    {
      "cell_type": "code",
      "source": [
        "sentence = \"He was running and eating at same time. He has bad habit of swimming after playing long hours in the Sun.\"\n",
        "print(lemsent(sentence))"
      ],
      "metadata": {
        "colab": {
          "base_uri": "https://localhost:8080/"
        },
        "id": "BokVe1G6DSqG",
        "outputId": "acc8f4b4-c358-4ca5-c6a1-ba6bb43885c5"
      },
      "execution_count": 16,
      "outputs": [
        {
          "output_type": "stream",
          "name": "stdout",
          "text": [
            "['He', 'was', 'running', 'and', 'eating', 'at', 'same', 'time', '.', 'He', 'has', 'bad', 'habit', 'of', 'swimming', 'after', 'playing', 'long', 'hours', 'in', 'the', 'Sun', '.']\n",
            "He wa running and eating at same time . He ha bad habit of swimming after playing long hour in the Sun . \n"
          ]
        }
      ]
    },
    {
      "cell_type": "code",
      "source": [
        "#relu"
      ],
      "metadata": {
        "id": "1UNNgAKgDiyz"
      },
      "execution_count": 17,
      "outputs": []
    },
    {
      "cell_type": "code",
      "source": [
        "import numpy as np\n",
        "import matplotlib.pyplot as plt\n",
        "def relu(x):\n",
        "  t=[]\n",
        "  for i in x:\n",
        "    if i<0:\n",
        "      t.append(0)\n",
        "    else:\n",
        "      t.append(i)\n",
        "  return t"
      ],
      "metadata": {
        "id": "Om5oz6ueDkhT"
      },
      "execution_count": 18,
      "outputs": []
    },
    {
      "cell_type": "code",
      "source": [
        "x=np.linspace(-10,10,5)\n",
        "plt.plot(x,relu(x))\n",
        "plt.xlabel(\"x values\")\n",
        "plt.ylabel(\"relu values\")\n",
        "plt.title(\"relu activation function\")\n",
        "plt.show()"
      ],
      "metadata": {
        "colab": {
          "base_uri": "https://localhost:8080/",
          "height": 472
        },
        "id": "TXw3Pv0-D8ki",
        "outputId": "88495c00-cb1b-4a7d-b52b-d1bc44b66ae8"
      },
      "execution_count": 19,
      "outputs": [
        {
          "output_type": "display_data",
          "data": {
            "text/plain": [
              "<Figure size 640x480 with 1 Axes>"
            ],
            "image/png": "[encoded data removed]"
          },
          "metadata": {}
        }
      ]
    }
  ]
}