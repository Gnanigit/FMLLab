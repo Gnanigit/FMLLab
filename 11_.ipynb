{
  "nbformat": 4,
  "nbformat_minor": 0,
  "metadata": {
    "colab": {
      "provenance": [],
      "authorship_tag": "ABX9TyOsZvSwoV3H1eGcaQ1wB1H8",
      "include_colab_link": true
    },
    "kernelspec": {
      "name": "python3",
      "display_name": "Python 3"
    },
    "language_info": {
      "name": "python"
    }
  },
  "cells": [
    {
      "cell_type": "markdown",
      "metadata": {
        "id": "view-in-github",
        "colab_type": "text"
      },
      "source": [
        "<a href=\"https://colab.research.google.com/github/Gnanigit/FMLLab/blob/main/11_.ipynb\" target=\"_parent\"><img src=\"https://colab.research.google.com/assets/colab-badge.svg\" alt=\"Open In Colab\"/></a>"
      ]
    },
    {
      "cell_type": "code",
      "execution_count": 1,
      "metadata": {
        "id": "GARKs1G364ub"
      },
      "outputs": [],
      "source": [
        "#split method"
      ]
    },
    {
      "cell_type": "code",
      "source": [
        "text='''Once there lived a greedy man in a small town. He was very rich, and he loved gold a\n",
        "nd all things fancy. But he loved his daughter more than anything. One day, he chanced upo\n",
        "n a fairy. The fairy’s hair was caught in a few tree branches. He helped her out, but as his gre\n",
        "ediness took over, he realised that he had an opportunity to become richer by asking for a w\n",
        "ish in return (by helping her out). The fairy granted him a wish. He said, “All that I touch sho\n",
        "uld turn to gold.” And his wish was granted by the grateful fairy.'''"
      ],
      "metadata": {
        "id": "xBScpNg17Q__"
      },
      "execution_count": 3,
      "outputs": []
    },
    {
      "cell_type": "code",
      "source": [
        "words=text.split(\" \")\n",
        "print(\"words = \",words)\n",
        "print(\"number of words =\",len(words))"
      ],
      "metadata": {
        "colab": {
          "base_uri": "https://localhost:8080/"
        },
        "id": "89h1hFr27V7w",
        "outputId": "e5d6956f-cd44-482f-a164-5323ebe85f6b"
      },
      "execution_count": 6,
      "outputs": [
        {
          "output_type": "stream",
          "name": "stdout",
          "text": [
            "words =  ['Once', 'there', 'lived', 'a', 'greedy', 'man', 'in', 'a', 'small', 'town.', 'He', 'was', 'very', 'rich,', 'and', 'he', 'loved', 'gold', 'a\\nnd', 'all', 'things', 'fancy.', 'But', 'he', 'loved', 'his', 'daughter', 'more', 'than', 'anything.', 'One', 'day,', 'he', 'chanced', 'upo\\nn', 'a', 'fairy.', 'The', 'fairy’s', 'hair', 'was', 'caught', 'in', 'a', 'few', 'tree', 'branches.', 'He', 'helped', 'her', 'out,', 'but', 'as', 'his', 'gre\\nediness', 'took', 'over,', 'he', 'realised', 'that', 'he', 'had', 'an', 'opportunity', 'to', 'become', 'richer', 'by', 'asking', 'for', 'a', 'w\\nish', 'in', 'return', '(by', 'helping', 'her', 'out).', 'The', 'fairy', 'granted', 'him', 'a', 'wish.', 'He', 'said,', '“All', 'that', 'I', 'touch', 'sho\\nuld', 'turn', 'to', 'gold.”', 'And', 'his', 'wish', 'was', 'granted', 'by', 'the', 'grateful', 'fairy.']\n",
            "number of words = 103\n"
          ]
        }
      ]
    },
    {
      "cell_type": "code",
      "source": [
        "sent=text.split(\".\")\n",
        "print(\"sentence = \",sent)\n",
        "print(\"number of sentences =\",len(sent))"
      ],
      "metadata": {
        "colab": {
          "base_uri": "https://localhost:8080/"
        },
        "id": "4zRpt3ww7dr2",
        "outputId": "e4b1d37f-6d64-4700-9232-2c74a3bfcda7"
      },
      "execution_count": 7,
      "outputs": [
        {
          "output_type": "stream",
          "name": "stdout",
          "text": [
            "sentence =  ['Once there lived a greedy man in a small town', ' He was very rich, and he loved gold a\\nnd all things fancy', ' But he loved his daughter more than anything', ' One day, he chanced upo\\nn a fairy', ' The fairy’s hair was caught in a few tree branches', ' He helped her out, but as his gre\\nediness took over, he realised that he had an opportunity to become richer by asking for a w\\nish in return (by helping her out)', ' The fairy granted him a wish', ' He said, “All that I touch sho\\nuld turn to gold', '” And his wish was granted by the grateful fairy', '']\n",
            "number of sentences = 10\n"
          ]
        }
      ]
    },
    {
      "cell_type": "code",
      "source": [
        "#re library"
      ],
      "metadata": {
        "id": "p7WqrZUL7oRl"
      },
      "execution_count": null,
      "outputs": []
    },
    {
      "cell_type": "code",
      "source": [
        "\n",
        "import re\n",
        "words=re.findall(\"[\\w']+\",text)\n",
        "print(words)\n",
        "print(len(words))"
      ],
      "metadata": {
        "colab": {
          "base_uri": "https://localhost:8080/"
        },
        "id": "A8f8YjYT7rVZ",
        "outputId": "97f3bd48-5319-4cbf-82bb-dc9efecdd63b"
      },
      "execution_count": 9,
      "outputs": [
        {
          "output_type": "stream",
          "name": "stdout",
          "text": [
            "['Once', 'there', 'lived', 'a', 'greedy', 'man', 'in', 'a', 'small', 'town', 'He', 'was', 'very', 'rich', 'and', 'he', 'loved', 'gold', 'a', 'nd', 'all', 'things', 'fancy', 'But', 'he', 'loved', 'his', 'daughter', 'more', 'than', 'anything', 'One', 'day', 'he', 'chanced', 'upo', 'n', 'a', 'fairy', 'The', 'fairy', 's', 'hair', 'was', 'caught', 'in', 'a', 'few', 'tree', 'branches', 'He', 'helped', 'her', 'out', 'but', 'as', 'his', 'gre', 'ediness', 'took', 'over', 'he', 'realised', 'that', 'he', 'had', 'an', 'opportunity', 'to', 'become', 'richer', 'by', 'asking', 'for', 'a', 'w', 'ish', 'in', 'return', 'by', 'helping', 'her', 'out', 'The', 'fairy', 'granted', 'him', 'a', 'wish', 'He', 'said', 'All', 'that', 'I', 'touch', 'sho', 'uld', 'turn', 'to', 'gold', 'And', 'his', 'wish', 'was', 'granted', 'by', 'the', 'grateful', 'fairy']\n",
            "109\n"
          ]
        }
      ]
    },
    {
      "cell_type": "code",
      "source": [
        "sent=re.compile('[.?!]').split(text)\n",
        "print(sent)\n",
        "print(len(sent))"
      ],
      "metadata": {
        "colab": {
          "base_uri": "https://localhost:8080/"
        },
        "id": "_Fng7kNK8XHr",
        "outputId": "d95facfc-3451-47ec-ec82-68cec3d0e7c1"
      },
      "execution_count": 11,
      "outputs": [
        {
          "output_type": "stream",
          "name": "stdout",
          "text": [
            "['Once there lived a greedy man in a small town', ' He was very rich, and he loved gold a\\nnd all things fancy', ' But he loved his daughter more than anything', ' One day, he chanced upo\\nn a fairy', ' The fairy’s hair was caught in a few tree branches', ' He helped her out, but as his gre\\nediness took over, he realised that he had an opportunity to become richer by asking for a w\\nish in return (by helping her out)', ' The fairy granted him a wish', ' He said, “All that I touch sho\\nuld turn to gold', '” And his wish was granted by the grateful fairy', '']\n",
            "10\n"
          ]
        }
      ]
    },
    {
      "cell_type": "code",
      "source": [
        "#nltk"
      ],
      "metadata": {
        "id": "sp6hGFi18zQk"
      },
      "execution_count": null,
      "outputs": []
    },
    {
      "cell_type": "code",
      "source": [
        "import nltk\n",
        "nltk.download('punkt')\n",
        "from nltk.tokenize import word_tokenize\n",
        "words=word_tokenize(text)\n",
        "print(words)\n",
        "print(len(words))"
      ],
      "metadata": {
        "colab": {
          "base_uri": "https://localhost:8080/"
        },
        "id": "1VEunrDg80b5",
        "outputId": "ee71cb28-296c-41cb-894b-5842a68a8114"
      },
      "execution_count": 14,
      "outputs": [
        {
          "output_type": "stream",
          "name": "stdout",
          "text": [
            "['Once', 'there', 'lived', 'a', 'greedy', 'man', 'in', 'a', 'small', 'town', '.', 'He', 'was', 'very', 'rich', ',', 'and', 'he', 'loved', 'gold', 'a', 'nd', 'all', 'things', 'fancy', '.', 'But', 'he', 'loved', 'his', 'daughter', 'more', 'than', 'anything', '.', 'One', 'day', ',', 'he', 'chanced', 'upo', 'n', 'a', 'fairy', '.', 'The', 'fairy', '’', 's', 'hair', 'was', 'caught', 'in', 'a', 'few', 'tree', 'branches', '.', 'He', 'helped', 'her', 'out', ',', 'but', 'as', 'his', 'gre', 'ediness', 'took', 'over', ',', 'he', 'realised', 'that', 'he', 'had', 'an', 'opportunity', 'to', 'become', 'richer', 'by', 'asking', 'for', 'a', 'w', 'ish', 'in', 'return', '(', 'by', 'helping', 'her', 'out', ')', '.', 'The', 'fairy', 'granted', 'him', 'a', 'wish', '.', 'He', 'said', ',', '“', 'All', 'that', 'I', 'touch', 'sho', 'uld', 'turn', 'to', 'gold.', '”', 'And', 'his', 'wish', 'was', 'granted', 'by', 'the', 'grateful', 'fairy', '.']\n",
            "127\n"
          ]
        },
        {
          "output_type": "stream",
          "name": "stderr",
          "text": [
            "[nltk_data] Downloading package punkt to /root/nltk_data...\n",
            "[nltk_data]   Package punkt is already up-to-date!\n"
          ]
        }
      ]
    },
    {
      "cell_type": "code",
      "source": [
        "from nltk.tokenize import sent_tokenize\n",
        "sent=sent_tokenize(text)\n",
        "print(sent)\n",
        "print(len(sent))"
      ],
      "metadata": {
        "colab": {
          "base_uri": "https://localhost:8080/"
        },
        "id": "tI9_Y8ZD9N8G",
        "outputId": "c7bb159d-a14d-4774-f2c4-19c05758e2a4"
      },
      "execution_count": 15,
      "outputs": [
        {
          "output_type": "stream",
          "name": "stdout",
          "text": [
            "['Once there lived a greedy man in a small town.', 'He was very rich, and he loved gold a\\nnd all things fancy.', 'But he loved his daughter more than anything.', 'One day, he chanced upo\\nn a fairy.', 'The fairy’s hair was caught in a few tree branches.', 'He helped her out, but as his gre\\nediness took over, he realised that he had an opportunity to become richer by asking for a w\\nish in return (by helping her out).', 'The fairy granted him a wish.', 'He said, “All that I touch sho\\nuld turn to gold.” And his wish was granted by the grateful fairy.']\n",
            "8\n"
          ]
        }
      ]
    }
  ]
}